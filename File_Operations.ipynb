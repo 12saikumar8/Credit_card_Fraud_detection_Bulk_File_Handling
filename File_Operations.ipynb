{
 "cells": [
  {
   "cell_type": "code",
   "execution_count": 0,
   "metadata": {
    "application/vnd.databricks.v1+cell": {
     "cellMetadata": {
      "byteLimit": 2048000,
      "rowLimit": 10000
     },
     "inputWidgets": {},
     "nuid": "563cf7d5-d455-4c56-93c0-ca4fa3f3e722",
     "showTitle": false,
     "tableResultSettingsMap": {},
     "title": ""
    }
   },
   "outputs": [
    {
     "output_type": "stream",
     "name": "stdout",
     "output_type": "stream",
     "text": [
      "Out[2]: True"
     ]
    }
   ],
   "source": [
    "source_path = \"dbfs:/FileStore/tables/credit_card.csv/\"\n",
    "destination_path = \"dbfs:/FileStore/tables/credit_card_copy/\"\n",
    "\n",
    "# Copy directory\n",
    "dbutils.fs.cp(source_path, destination_path, recurse=True)\n",
    "\n"
   ]
  },
  {
   "cell_type": "code",
   "execution_count": 0,
   "metadata": {
    "application/vnd.databricks.v1+cell": {
     "cellMetadata": {
      "byteLimit": 2048000,
      "rowLimit": 10000
     },
     "inputWidgets": {},
     "nuid": "b36b113b-3356-46ec-8db0-167b219d6b57",
     "showTitle": false,
     "tableResultSettingsMap": {},
     "title": ""
    }
   },
   "outputs": [
    {
     "output_type": "display_data",
     "data": {
      "text/html": [
       "<style scoped>\n",
       "  .table-result-container {\n",
       "    max-height: 300px;\n",
       "    overflow: auto;\n",
       "  }\n",
       "  table, th, td {\n",
       "    border: 1px solid black;\n",
       "    border-collapse: collapse;\n",
       "  }\n",
       "  th, td {\n",
       "    padding: 5px;\n",
       "  }\n",
       "  th {\n",
       "    text-align: left;\n",
       "  }\n",
       "</style><div class='table-result-container'><table class='table-result'><thead style='background-color: white'><tr><th>path</th><th>name</th><th>size</th><th>modificationTime</th></tr></thead><tbody><tr><td>dbfs:/FileStore/tables/Employee_detail.csv</td><td>Employee_detail.csv</td><td>232</td><td>1719312021000</td></tr><tr><td>dbfs:/FileStore/tables/Multi_line_correct.json</td><td>Multi_line_correct.json</td><td>312</td><td>1719320978000</td></tr><tr><td>dbfs:/FileStore/tables/Multi_line_incorrect.json</td><td>Multi_line_incorrect.json</td><td>304</td><td>1719320953000</td></tr><tr><td>dbfs:/FileStore/tables/bad_records/</td><td>bad_records/</td><td>0</td><td>0</td></tr><tr><td>dbfs:/FileStore/tables/corrupted_json.json</td><td>corrupted_json.json</td><td>218</td><td>1719320868000</td></tr><tr><td>dbfs:/FileStore/tables/credit_card.csv/</td><td>credit_card.csv/</td><td>0</td><td>0</td></tr><tr><td>dbfs:/FileStore/tables/credit_card_copy/</td><td>credit_card_copy/</td><td>0</td><td>0</td></tr><tr><td>dbfs:/FileStore/tables/flight_data.csv</td><td>flight_data.csv</td><td>7121</td><td>1718797116000</td></tr><tr><td>dbfs:/FileStore/tables/line_delimited_json.json</td><td>line_delimited_json.json</td><td>223</td><td>1719320435000</td></tr><tr><td>dbfs:/FileStore/tables/resturant_json_data.json</td><td>resturant_json_data.json</td><td>669503</td><td>1727606274000</td></tr><tr><td>dbfs:/FileStore/tables/single_file_json_with_extra_fields-1.txt</td><td>single_file_json_with_extra_fields-1.txt</td><td>234</td><td>1719320687000</td></tr><tr><td>dbfs:/FileStore/tables/single_file_json_with_extra_fields.json</td><td>single_file_json_with_extra_fields.json</td><td>234</td><td>1719320824000</td></tr><tr><td>dbfs:/FileStore/tables/single_file_json_with_extra_fields.txt</td><td>single_file_json_with_extra_fields.txt</td><td>234</td><td>1719320479000</td></tr></tbody></table></div>"
      ]
     },
     "metadata": {
      "application/vnd.databricks.v1+output": {
       "addedWidgets": {},
       "aggData": [],
       "aggError": "",
       "aggOverflow": false,
       "aggSchema": [],
       "aggSeriesLimitReached": false,
       "aggType": "",
       "arguments": {},
       "columnCustomDisplayInfos": {},
       "data": [
        [
         "dbfs:/FileStore/tables/Employee_detail.csv",
         "Employee_detail.csv",
         232,
         1719312021000
        ],
        [
         "dbfs:/FileStore/tables/Multi_line_correct.json",
         "Multi_line_correct.json",
         312,
         1719320978000
        ],
        [
         "dbfs:/FileStore/tables/Multi_line_incorrect.json",
         "Multi_line_incorrect.json",
         304,
         1719320953000
        ],
        [
         "dbfs:/FileStore/tables/bad_records/",
         "bad_records/",
         0,
         0
        ],
        [
         "dbfs:/FileStore/tables/corrupted_json.json",
         "corrupted_json.json",
         218,
         1719320868000
        ],
        [
         "dbfs:/FileStore/tables/credit_card.csv/",
         "credit_card.csv/",
         0,
         0
        ],
        [
         "dbfs:/FileStore/tables/credit_card_copy/",
         "credit_card_copy/",
         0,
         0
        ],
        [
         "dbfs:/FileStore/tables/flight_data.csv",
         "flight_data.csv",
         7121,
         1718797116000
        ],
        [
         "dbfs:/FileStore/tables/line_delimited_json.json",
         "line_delimited_json.json",
         223,
         1719320435000
        ],
        [
         "dbfs:/FileStore/tables/resturant_json_data.json",
         "resturant_json_data.json",
         669503,
         1727606274000
        ],
        [
         "dbfs:/FileStore/tables/single_file_json_with_extra_fields-1.txt",
         "single_file_json_with_extra_fields-1.txt",
         234,
         1719320687000
        ],
        [
         "dbfs:/FileStore/tables/single_file_json_with_extra_fields.json",
         "single_file_json_with_extra_fields.json",
         234,
         1719320824000
        ],
        [
         "dbfs:/FileStore/tables/single_file_json_with_extra_fields.txt",
         "single_file_json_with_extra_fields.txt",
         234,
         1719320479000
        ]
       ],
       "datasetInfos": [],
       "dbfsResultPath": null,
       "isJsonSchema": true,
       "metadata": {
        "isDbfsCommandResult": false
       },
       "overflow": false,
       "plotOptions": {
        "customPlotOptions": {},
        "displayType": "table",
        "pivotAggregation": null,
        "pivotColumns": null,
        "xColumns": null,
        "yColumns": null
       },
       "removedWidgets": [],
       "schema": [
        {
         "metadata": "{}",
         "name": "path",
         "type": "\"string\""
        },
        {
         "metadata": "{}",
         "name": "name",
         "type": "\"string\""
        },
        {
         "metadata": "{}",
         "name": "size",
         "type": "\"long\""
        },
        {
         "metadata": "{}",
         "name": "modificationTime",
         "type": "\"long\""
        }
       ],
       "type": "table"
      }
     },
     "output_type": "display_data"
    }
   ],
   "source": [
    "%fs ls /FileStore/tables/\n"
   ]
  },
  {
   "cell_type": "code",
   "execution_count": 0,
   "metadata": {
    "application/vnd.databricks.v1+cell": {
     "cellMetadata": {
      "byteLimit": 2048000,
      "rowLimit": 10000
     },
     "inputWidgets": {},
     "nuid": "765cf722-6d7c-489f-9c14-43fb1b8043d5",
     "showTitle": false,
     "tableResultSettingsMap": {},
     "title": ""
    }
   },
   "outputs": [
    {
     "output_type": "stream",
     "name": "stdout",
     "output_type": "stream",
     "text": [
      "creditcard.csv\n"
     ]
    }
   ],
   "source": [
    "# List files in the directory\n",
    "files = dbutils.fs.ls(\"/FileStore/tables/credit_card_copy\")\n",
    "\n",
    "# Check if there are CSV files\n",
    "for file in files:\n",
    "    print(file.name)\n"
   ]
  }
 ],
 "metadata": {
  "application/vnd.databricks.v1+notebook": {
   "dashboards": [],
   "environmentMetadata": null,
   "language": "python",
   "notebookMetadata": {
    "mostRecentlyExecutedCommandWithImplicitDF": {
     "commandId": 803565683670229,
     "dataframes": [
      "_sqldf"
     ]
    },
    "pythonIndentUnit": 4
   },
   "notebookName": "File_Operations",
   "widgets": {}
  }
 },
 "nbformat": 4,
 "nbformat_minor": 0
}
